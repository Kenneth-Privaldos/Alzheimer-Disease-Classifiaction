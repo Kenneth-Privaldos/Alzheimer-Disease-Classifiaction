{
  "nbformat": 4,
  "nbformat_minor": 0,
  "metadata": {
    "colab": {
      "provenance": [],
      "toc_visible": true,
      "authorship_tag": "ABX9TyMIWaUMYLM9QwmdhGyWCvSB"
    },
    "kernelspec": {
      "name": "python3",
      "display_name": "Python 3"
    },
    "language_info": {
      "name": "python"
    }
  },
  "cells": [
    {
      "cell_type": "code",
      "source": [
        "!pip install streamlit PyPDF2 pandas"
      ],
      "metadata": {
        "id": "_9IlkDrU-0pl"
      },
      "execution_count": null,
      "outputs": []
    },
    {
      "cell_type": "code",
      "execution_count": 4,
      "metadata": {
        "id": "cRTWUMago9s6"
      },
      "outputs": [],
      "source": [
        "import streamlit as st\n",
        "import pandas as pd\n",
        "import re\n",
        "from PyPDF2 import PdfReader"
      ]
    },
    {
      "cell_type": "code",
      "source": [
        "def split_contents(contents):\n",
        "    split_point = contents.find('The answer is:')\n",
        "    question = contents[:split_point].strip()\n",
        "    answer = contents[split_point:].strip()\n",
        "    answer = re.sub(r'\\s*\\d+\\s*$', '', answer)\n",
        "    return question, answer\n",
        "\n",
        "def process_pdf(file):\n",
        "    pdf = PdfReader(file)\n",
        "    text = []\n",
        "    for page in pdf.pages:\n",
        "        text.append(page.extract_text())\n",
        "    df = pd.DataFrame(text, columns=[\"Text\"])\n",
        "    df['Question'], df['Answer'] = zip(*df['Text'].map(split_contents))\n",
        "    return df\n",
        "\n",
        "st.title('PDF to CSV Converter')\n",
        "\n",
        "uploaded_file = st.file_uploader(\"Choose a PDF file\", type=\"pdf\")\n",
        "if uploaded_file is not None:\n",
        "    df = process_pdf(uploaded_file)\n",
        "    st.write(df)\n",
        "    df.to_csv('output.csv', index=False)\n",
        "    st.success('File has been processed and saved as output.csv')"
      ],
      "metadata": {
        "id": "NJKCSTyN-zi0"
      },
      "execution_count": null,
      "outputs": []
    }
  ]
}